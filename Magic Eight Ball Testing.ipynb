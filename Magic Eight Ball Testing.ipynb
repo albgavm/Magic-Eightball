{
 "cells": [
  {
   "cell_type": "code",
   "execution_count": 1,
   "metadata": {},
   "outputs": [],
   "source": [
    "yes = [\"As I see it, YES\",\n",
    "       \"It Is Certain\",\n",
    "       \"Most Likely\",\n",
    "       \"It is Decidedly so\",\n",
    "       \"Yes\",\n",
    "       \"All Signs Point to Yes\",\n",
    "       \"You May Rely on it\",\n",
    "       \"Bet your life\",\n",
    "       \"Without a Doubt\",\n",
    "       \"Definitely\",\n",
    "       \"Certainly So\"\n",
    "        ]"
   ]
  },
  {
   "cell_type": "code",
   "execution_count": 2,
   "metadata": {},
   "outputs": [],
   "source": [
    "no = [\"My reply is no\",\n",
    "       \"Dont Count on it\",\n",
    "       \"No\",\n",
    "       \"Very Doubtful\",\n",
    "       \"My Senses say No\",\n",
    "       \"I have a bad feeling about this\",\n",
    "       \"I dont feel confident\",\n",
    "       \"Outlook Not so Good\",\n",
    "       \"I won't bet on it\",\n",
    "       \"I wouldn't do it\",\n",
    "       \"I Doubt it\"\n",
    "        ]"
   ]
  },
  {
   "cell_type": "code",
   "execution_count": 3,
   "metadata": {},
   "outputs": [],
   "source": [
    "tryagain = [\"Ask Again Later\",\n",
    "       \"Better not tell you now\",\n",
    "       \"Concentrate and Ask me again\",\n",
    "       \"Cannot predict now\",\n",
    "       \"I'm not sure\",\n",
    "       \"Give me a minute to decide\",\n",
    "       \"It is unclear\",\n",
    "       \"What does your heart tell you?\",\n",
    "       \"I really don't know\",\n",
    "            \"Give it it another shot\",\n",
    "        ]"
   ]
  },
  {
   "cell_type": "code",
   "execution_count": 4,
   "metadata": {},
   "outputs": [],
   "source": [
    "import random\n",
    "\n",
    "def mergelist(a,b,c):\n",
    "    merge = a + b + c\n",
    "    return merge\n",
    "    \n",
    "def selectrandom(listname):\n",
    "    draw = random.choice(listname)\n",
    "    return(draw)\n",
    "\n",
    "def showdraw(x):\n",
    "    print(x)\n",
    "    \n",
    "def selectagain():\n",
    "    ans3 = input(\"Would you like to shake again (Y/N)?:\")\n",
    "    if ans3 in ['y', 'Y', 'yes', 'Yes', 'YES']:\n",
    "        print(\"\")\n",
    "        x = mergelist(yes,no,tryagain)\n",
    "        showdraw(selectrandom(x))\n",
    "        selectagain()\n",
    "        print(\"\")\n",
    "    else:\n",
    "        main()\n",
    "\n",
    "        \n",
    "def main():\n",
    "\n",
    "    \n",
    "    print(\"WELCOME TO MAGIC EIGHT BALL\")\n",
    "    print(\"\")\n",
    "    \n",
    "    ans = input(\"Would you like to shake (Y/N)?:\")\n",
    "    if ans in ['y', 'Y', 'yes', 'Yes', 'YES']:\n",
    "        print(\"\")\n",
    "        x = mergelist(yes,no,tryagain)\n",
    "        showdraw(selectrandom(x))\n",
    "        selectagain()\n",
    "        print(\"\")\n",
    "        \n",
    "    else:\n",
    "        ans2 = input(\"Are you satisfied with your answer (Y/N)?:\")\n",
    "        if ans2 in ['y', 'Y', 'yes', 'Yes', 'YES']:\n",
    "            print(\"\")\n",
    "            print(\"Thanks for participating\")\n",
    "            pass\n",
    "\n"
   ]
  },
  {
   "cell_type": "code",
   "execution_count": 5,
   "metadata": {},
   "outputs": [
    {
     "name": "stdout",
     "output_type": "stream",
     "text": [
      "Are you satisfied with your answer (Y/N)?:Y\n",
      "\u001b[A                             \u001b[A\n",
      "Thanks for participating\n"
     ]
    }
   ],
   "source": [
    "ans2 = input(\"Are you satisfied with your answer (Y/N)?:\")\n",
    "if ans2 in ['y', 'Y', 'yes', 'Yes', 'YES']:\n",
    "    print (\"\\033[A                             \\033[A\")\n",
    "    print(\"Thanks for participating\")"
   ]
  },
  {
   "cell_type": "code",
   "execution_count": 1,
   "metadata": {
    "pycharm": {
     "is_executing": false
    }
   },
   "outputs": [
    {
     "traceback": [
      "\u001b[0;31m---------------------------------------------------------------------------\u001b[0m",
      "\u001b[0;31mNameError\u001b[0m                                 Traceback (most recent call last)",
      "\u001b[0;32m<ipython-input-1-263240bbee7e>\u001b[0m in \u001b[0;36m<module>\u001b[0;34m\u001b[0m\n\u001b[0;32m----> 1\u001b[0;31m \u001b[0mmain\u001b[0m\u001b[0;34m(\u001b[0m\u001b[0;34m)\u001b[0m\u001b[0;34m\u001b[0m\u001b[0;34m\u001b[0m\u001b[0m\n\u001b[0m",
      "\u001b[0;31mNameError\u001b[0m: name 'main' is not defined"
     ],
     "ename": "NameError",
     "evalue": "name 'main' is not defined",
     "output_type": "error"
    }
   ],
   "source": [
    "\n",
    "main()"
   ]
  },
  {
   "cell_type": "code",
   "execution_count": null,
   "metadata": {},
   "outputs": [],
   "source": []
  }
 ],
 "metadata": {
  "kernelspec": {
   "display_name": "Python 3",
   "language": "python",
   "name": "python3"
  },
  "language_info": {
   "codemirror_mode": {
    "name": "ipython",
    "version": 3
   },
   "file_extension": ".py",
   "mimetype": "text/x-python",
   "name": "python",
   "nbconvert_exporter": "python",
   "pygments_lexer": "ipython3",
   "version": "3.7.4"
  },
  "pycharm": {
   "stem_cell": {
    "cell_type": "raw",
    "source": [],
    "metadata": {
     "collapsed": false
    }
   }
  }
 },
 "nbformat": 4,
 "nbformat_minor": 2
}